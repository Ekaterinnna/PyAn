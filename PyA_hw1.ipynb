{
  "nbformat": 4,
  "nbformat_minor": 0,
  "metadata": {
    "colab": {
      "provenance": [],
      "authorship_tag": "ABX9TyMuhkPHESm0k/50KEB1YwTr",
      "include_colab_link": true
    },
    "kernelspec": {
      "name": "python3",
      "display_name": "Python 3"
    },
    "language_info": {
      "name": "python"
    }
  },
  "cells": [
    {
      "cell_type": "markdown",
      "metadata": {
        "id": "view-in-github",
        "colab_type": "text"
      },
      "source": [
        "<a href=\"https://colab.research.google.com/github/Ekaterinnna/PyAn/blob/main/PyA_hw1.ipynb\" target=\"_parent\"><img src=\"https://colab.research.google.com/assets/colab-badge.svg\" alt=\"Open In Colab\"/></a>"
      ]
    },
    {
      "cell_type": "markdown",
      "source": [
        "##Условие 1\n",
        "Оформляйте ноутбук, используя эти советы:\n",
        "Номер задачи - заголовок 2\n",
        "Номер подзадачи - заголовок 3\n",
        "Предоставленные наборы данных оформляйте, как код"
      ],
      "metadata": {
        "id": "GTLsrlJ9AkHG"
      }
    },
    {
      "cell_type": "markdown",
      "source": [
        "##Условие 2\n",
        "На складе лежат разные фрукты в разном количестве.\n",
        "Нужно написать функцию, которая на вход принимает любое количество названий фруктов и их количество, а возвращает общее количество фруктов на складе"
      ],
      "metadata": {
        "id": "ENizBB-OAyp5"
      }
    },
    {
      "cell_type": "code",
      "source": [
        "def fruits(**kwargs):\n",
        "  res=0\n",
        "  for fruit, number in kwargs.items():\n",
        "    res += number\n",
        "  return res\n",
        "\n",
        "res = fruits(apple=5, orange=6, kiwi=8)\n",
        "res"
      ],
      "metadata": {
        "colab": {
          "base_uri": "https://localhost:8080/"
        },
        "id": "FoBeypdAECFk",
        "outputId": "2f0c067a-7bb6-4f45-ded3-f4dcd165aa61"
      },
      "execution_count": 3,
      "outputs": [
        {
          "output_type": "execute_result",
          "data": {
            "text/plain": [
              "19"
            ]
          },
          "metadata": {},
          "execution_count": 3
        }
      ]
    },
    {
      "cell_type": "markdown",
      "source": [
        "##Условие 3\n",
        "Дан список с затратами на рекламу. Но в данных есть ошибки, некоторые затраты имеют отрицательную величину. Удалите такие значения из списка и посчитайте суммарные затраты\n",
        "\n",
        "[100, 125, -90, 345, 655, -1, 0, 200]\n",
        "\n",
        "Используйте list comprehensions"
      ],
      "metadata": {
        "id": "HZgUA2PDA8Xb"
      }
    },
    {
      "cell_type": "code",
      "source": [
        "expences_list = [100, 125, -90, 345, 655, -1, 0, 200]\n",
        "sum([a for a in expences_list if a>0])"
      ],
      "metadata": {
        "colab": {
          "base_uri": "https://localhost:8080/"
        },
        "id": "bu-x2otZHKto",
        "outputId": "da7aed76-cb3e-4c7a-b683-c3ecff1509d0"
      },
      "execution_count": 4,
      "outputs": [
        {
          "output_type": "execute_result",
          "data": {
            "text/plain": [
              "1425"
            ]
          },
          "metadata": {},
          "execution_count": 4
        }
      ]
    },
    {
      "cell_type": "markdown",
      "source": [
        "##Условие 4\n",
        "Даны два списка.\n",
        "\n",
        "Дата покупки\n",
        "['2021-09-14', '2021-12-15', '2021-09-08', '2021-12-05', '2021-10-09', '2021-09-30', '2021-12-22', '2021-11-29', '2021-12-24', '2021-11-26', '2021-10-27', '2021-12-18', '2021-11-09', '2021-11-23', '2021-09-27', '2021-10-02', '2021-12-27', '2021-09-20', '2021-12-13', '2021-11-01', '2021-11-09', '2021-12-06', '2021-12-08', '2021-10-09', '2021-10-31', '2021-09-30', '2021-11-09', '2021-12-13', '2021-10-26', '2021-12-09']\n",
        "\n",
        "Суммы покупок по датам\n",
        "[1270, 8413, 9028, 3703, 5739, 4095, 295, 4944, 5723, 3701, 4471, 651, 7037, 4274, 6275, 4988, 6930, 2971, 6592, 2004, 2822, 519, 3406, 2732, 5015, 2008, 316, 6333, 5700, 2887]\n"
      ],
      "metadata": {
        "id": "RURivJtXBB53"
      }
    },
    {
      "cell_type": "code",
      "source": [
        "dates = ['2021-09-14', '2021-12-15', '2021-09-08', '2021-12-05', '2021-10-09', '2021-09-30', '2021-12-22',\\\n",
        "         '2021-11-29', '2021-12-24', '2021-11-26', '2021-10-27', '2021-12-18', '2021-11-09', '2021-11-23',\\\n",
        "         '2021-09-27', '2021-10-02', '2021-12-27', '2021-09-20', '2021-12-13', '2021-11-01', '2021-11-09', \\\n",
        "         '2021-12-06', '2021-12-08', '2021-10-09', '2021-10-31', '2021-09-30', '2021-11-09', '2021-12-13', \\\n",
        "         '2021-10-26', '2021-12-09']\n",
        "\n",
        "expences = [1270, 8413, 9028, 3703, 5739, 4095, 295, 4944, 5723, 3701, 4471, 651, 7037, 4274, 6275, 4988, 6930,\\\n",
        "            2971, 6592, 2004, 2822, 519, 3406, 2732, 5015, 2008, 316, 6333, 5700, 2887]"
      ],
      "metadata": {
        "id": "3MlO2k--JJsu"
      },
      "execution_count": 5,
      "outputs": []
    },
    {
      "cell_type": "markdown",
      "source": [
        "###4.1 \n",
        "Найдите, какая выручка у компании в ноябре\n",
        "Используйте list comprehensions"
      ],
      "metadata": {
        "id": "LKBBQlYeBeBj"
      }
    },
    {
      "cell_type": "code",
      "source": [
        "sum([expences[i] for i in range(len(dates)) if (dates[i][5:7]=='11')])"
      ],
      "metadata": {
        "colab": {
          "base_uri": "https://localhost:8080/"
        },
        "id": "tL1IuXiTJIOt",
        "outputId": "ca9d4411-fa85-468b-e6d1-4bb30dd63362"
      },
      "execution_count": 7,
      "outputs": [
        {
          "output_type": "execute_result",
          "data": {
            "text/plain": [
              "25098"
            ]
          },
          "metadata": {},
          "execution_count": 7
        }
      ]
    },
    {
      "cell_type": "markdown",
      "source": [
        "###4.2 \n",
        "Найдите выручку компании в зависимости от месяца\n",
        "\n",
        "Для этого напишите функцию, которая на вход принимает список с датами и список с выручкой, а на выходе словарь, где ключи - это месяцы, а значения - это выручка.\n",
        "\n",
        "Используйте аннотирование типов."
      ],
      "metadata": {
        "id": "nyGu4p3YBjq3"
      }
    },
    {
      "cell_type": "code",
      "execution_count": 14,
      "metadata": {
        "colab": {
          "base_uri": "https://localhost:8080/"
        },
        "id": "jFEvkbzU-aBi",
        "outputId": "a49a42fe-8379-47ef-acd0-71eacc4a3fe3"
      },
      "outputs": [
        {
          "output_type": "execute_result",
          "data": {
            "text/plain": [
              "{'January': 0,\n",
              " 'February': 0,\n",
              " 'March': 0,\n",
              " 'April': 0,\n",
              " 'May': 0,\n",
              " 'June': 0,\n",
              " 'July': 0,\n",
              " 'August': 0,\n",
              " 'September': 0,\n",
              " 'October': 28645,\n",
              " 'November': 25098,\n",
              " 'December': 45452}"
            ]
          },
          "metadata": {},
          "execution_count": 14
        }
      ],
      "source": [
        "import calendar\n",
        "def get_dict(dates:list, expences:list) -> dict:\n",
        "  my_dict = {}\n",
        "  for month in range(1, 13):\n",
        "    month_expences = sum([expences[i] for i in range(len(dates)) if (dates[i][5:7]==str(month))])\n",
        "    my_dict[calendar.month_name[month]] = month_expences\n",
        "  return my_dict\n",
        "\n",
        "get_dict(dates, expences)"
      ]
    }
  ]
}