{
  "nbformat": 4,
  "nbformat_minor": 0,
  "metadata": {
    "colab": {
      "provenance": [],
      "toc_visible": true,
      "authorship_tag": "ABX9TyOuqGPOlheLUoXlbCsvpzmm",
      "include_colab_link": true
    },
    "kernelspec": {
      "name": "python3",
      "display_name": "Python 3"
    },
    "language_info": {
      "name": "python"
    }
  },
  "cells": [
    {
      "cell_type": "markdown",
      "metadata": {
        "id": "view-in-github",
        "colab_type": "text"
      },
      "source": [
        "<a href=\"https://colab.research.google.com/github/Ekaterinnna/PyAn/blob/main/Final.ipynb\" target=\"_parent\"><img src=\"https://colab.research.google.com/assets/colab-badge.svg\" alt=\"Open In Colab\"/></a>"
      ]
    },
    {
      "cell_type": "code",
      "execution_count": null,
      "metadata": {
        "id": "u8LjGrheLRNb"
      },
      "outputs": [],
      "source": [
        "import pandas as pd\n",
        "import numpy as np"
      ]
    },
    {
      "cell_type": "code",
      "source": [
        "currences = pd.read_csv('Currences.csv')\n",
        "info = pd.read_csv('Info.csv')\n",
        "marketing = pd.read_csv('Marketing.csv')"
      ],
      "metadata": {
        "id": "imYEZxxrMBJc"
      },
      "execution_count": null,
      "outputs": []
    },
    {
      "cell_type": "code",
      "source": [
        "brands = ['Mersedes', 'BMW']\n",
        "brands_conditions = [marketing['Domain'].str.contains(brand) for brand in brands]\n",
        "\n",
        "models = list(info['Модель'])\n",
        "models_conditions = [marketing['Goal Completion Location'].str.contains(model) for model in models]\n",
        "\n",
        "marketing['brand'] = np.select(brands_conditions, brands)\n",
        "marketing['model'] = np.select(models_conditions, models)"
      ],
      "metadata": {
        "id": "Xgf2bA2wMdkf"
      },
      "execution_count": null,
      "outputs": []
    },
    {
      "cell_type": "code",
      "source": [
        "dollar = float(currences[currences['Букв. код']=='USD']['Курс'].str.replace(',','.'))\n",
        "euro = float(currences[currences['Букв. код']=='EUR']['Курс'].str.replace(',','.'))\n",
        "ruble = 1\n",
        "\n",
        "values = [(info[' Цена'].apply(lambda x: ''.join(x.strip().split()))).astype(float) * curr for curr in [dollar, euro, ruble]]\n",
        "cond = [info.replace('$', 'Доллар')['Валюта'].str.contains(curr) for curr in ['Доллар', 'Евро', 'Рубль']]\n",
        "\n",
        "info['Цена, руб.'] = np.select(cond, values)\n",
        "info['Маржа, руб.'] = info['Цена, руб.'] * info['Маржинальность'].str.replace('%','').astype(float) / 100"
      ],
      "metadata": {
        "id": "33qoE_uRYux6"
      },
      "execution_count": null,
      "outputs": []
    },
    {
      "cell_type": "code",
      "source": [
        "mark_inf = marketing.merge(info, how='left', left_on='model', right_on='Модель')"
      ],
      "metadata": {
        "id": "xRfP4Ktp6qqK"
      },
      "execution_count": null,
      "outputs": []
    },
    {
      "cell_type": "code",
      "source": [
        "mark_inf.to_csv('marketing_info.csv')"
      ],
      "metadata": {
        "id": "L06ibhCLZ9Y9"
      },
      "execution_count": null,
      "outputs": []
    },
    {
      "cell_type": "code",
      "source": [],
      "metadata": {
        "id": "YF9cEkuDybDa"
      },
      "execution_count": null,
      "outputs": []
    }
  ]
}